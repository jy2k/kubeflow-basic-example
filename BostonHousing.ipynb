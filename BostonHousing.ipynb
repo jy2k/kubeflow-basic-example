{
 "cells": [
  {
   "cell_type": "code",
   "execution_count": 87,
   "metadata": {
    "jupyter": {
     "source_hidden": true
    }
   },
   "outputs": [
    {
     "name": "stdout",
     "output_type": "stream",
     "text": [
      "Requirement already satisfied: kfp in /opt/conda/lib/python3.7/site-packages (1.0.1)\n",
      "Requirement already satisfied: tabulate in /opt/conda/lib/python3.7/site-packages (from kfp) (0.8.7)\n",
      "Requirement already satisfied: google-cloud-storage>=1.13.0 in /opt/conda/lib/python3.7/site-packages (from kfp) (1.30.0)\n",
      "Requirement already satisfied: PyYAML in /opt/conda/lib/python3.7/site-packages (from kfp) (5.3.1)\n",
      "Requirement already satisfied: google-auth>=1.6.1 in /opt/conda/lib/python3.7/site-packages (from kfp) (1.21.2)\n",
      "Requirement already satisfied: cloudpickle in /opt/conda/lib/python3.7/site-packages (from kfp) (1.6.0)\n",
      "Requirement already satisfied: kfp-server-api<2.0.0,>=0.2.5 in /opt/conda/lib/python3.7/site-packages (from kfp) (1.0.1)\n",
      "Requirement already satisfied: jsonschema>=3.0.1 in /opt/conda/lib/python3.7/site-packages (from kfp) (3.2.0)\n",
      "Requirement already satisfied: requests-toolbelt>=0.8.0 in /opt/conda/lib/python3.7/site-packages (from kfp) (0.9.1)\n",
      "Requirement already satisfied: click in /opt/conda/lib/python3.7/site-packages (from kfp) (7.1.2)\n",
      "Requirement already satisfied: Deprecated in /opt/conda/lib/python3.7/site-packages (from kfp) (1.2.10)\n",
      "Requirement already satisfied: strip-hints in /opt/conda/lib/python3.7/site-packages (from kfp) (0.1.9)\n",
      "Requirement already satisfied: kubernetes<12.0.0,>=8.0.0 in /opt/conda/lib/python3.7/site-packages (from kfp) (11.0.0)\n",
      "Requirement already satisfied: google-resumable-media<2.0dev,>=0.6.0 in /opt/conda/lib/python3.7/site-packages (from google-cloud-storage>=1.13.0->kfp) (1.0.0)\n",
      "Requirement already satisfied: google-cloud-core<2.0dev,>=1.2.0 in /opt/conda/lib/python3.7/site-packages (from google-cloud-storage>=1.13.0->kfp) (1.3.0)\n",
      "Requirement already satisfied: cachetools<5.0,>=2.0.0 in /opt/conda/lib/python3.7/site-packages (from google-auth>=1.6.1->kfp) (4.1.1)\n",
      "Requirement already satisfied: setuptools>=40.3.0 in /opt/conda/lib/python3.7/site-packages (from google-auth>=1.6.1->kfp) (50.3.0)\n",
      "Requirement already satisfied: pyasn1-modules>=0.2.1 in /opt/conda/lib/python3.7/site-packages (from google-auth>=1.6.1->kfp) (0.2.8)\n",
      "Requirement already satisfied: six>=1.9.0 in /opt/conda/lib/python3.7/site-packages (from google-auth>=1.6.1->kfp) (1.15.0)\n",
      "Requirement already satisfied: rsa<5,>=3.1.4; python_version >= \"3.5\" in /opt/conda/lib/python3.7/site-packages (from google-auth>=1.6.1->kfp) (4.6)\n",
      "Requirement already satisfied: certifi in /opt/conda/lib/python3.7/site-packages (from kfp-server-api<2.0.0,>=0.2.5->kfp) (2020.6.20)\n",
      "Requirement already satisfied: python-dateutil in /opt/conda/lib/python3.7/site-packages (from kfp-server-api<2.0.0,>=0.2.5->kfp) (2.8.1)\n",
      "Requirement already satisfied: urllib3>=1.15 in /opt/conda/lib/python3.7/site-packages (from kfp-server-api<2.0.0,>=0.2.5->kfp) (1.25.10)\n",
      "Requirement already satisfied: attrs>=17.4.0 in /opt/conda/lib/python3.7/site-packages (from jsonschema>=3.0.1->kfp) (20.2.0)\n",
      "Requirement already satisfied: pyrsistent>=0.14.0 in /opt/conda/lib/python3.7/site-packages (from jsonschema>=3.0.1->kfp) (0.17.3)\n",
      "Requirement already satisfied: importlib-metadata; python_version < \"3.8\" in /opt/conda/lib/python3.7/site-packages (from jsonschema>=3.0.1->kfp) (1.7.0)\n",
      "Requirement already satisfied: requests<3.0.0,>=2.0.1 in /opt/conda/lib/python3.7/site-packages (from requests-toolbelt>=0.8.0->kfp) (2.24.0)\n",
      "Requirement already satisfied: wrapt<2,>=1.10 in /opt/conda/lib/python3.7/site-packages (from Deprecated->kfp) (1.12.1)\n",
      "Requirement already satisfied: wheel in /opt/conda/lib/python3.7/site-packages (from strip-hints->kfp) (0.35.1)\n",
      "Requirement already satisfied: requests-oauthlib in /opt/conda/lib/python3.7/site-packages (from kubernetes<12.0.0,>=8.0.0->kfp) (1.3.0)\n",
      "Requirement already satisfied: websocket-client!=0.40.0,!=0.41.*,!=0.42.*,>=0.32.0 in /opt/conda/lib/python3.7/site-packages (from kubernetes<12.0.0,>=8.0.0->kfp) (0.57.0)\n",
      "Requirement already satisfied: google-crc32c<2.0dev,>=1.0; python_version >= \"3.5\" in /opt/conda/lib/python3.7/site-packages (from google-resumable-media<2.0dev,>=0.6.0->google-cloud-storage>=1.13.0->kfp) (1.0.0)\n",
      "Requirement already satisfied: google-api-core<2.0.0dev,>=1.16.0 in /opt/conda/lib/python3.7/site-packages (from google-cloud-core<2.0dev,>=1.2.0->google-cloud-storage>=1.13.0->kfp) (1.22.2)\n",
      "Requirement already satisfied: pyasn1<0.5.0,>=0.4.6 in /opt/conda/lib/python3.7/site-packages (from pyasn1-modules>=0.2.1->google-auth>=1.6.1->kfp) (0.4.8)\n",
      "Requirement already satisfied: zipp>=0.5 in /opt/conda/lib/python3.7/site-packages (from importlib-metadata; python_version < \"3.8\"->jsonschema>=3.0.1->kfp) (3.1.0)\n",
      "Requirement already satisfied: chardet<4,>=3.0.2 in /opt/conda/lib/python3.7/site-packages (from requests<3.0.0,>=2.0.1->requests-toolbelt>=0.8.0->kfp) (3.0.4)\n",
      "Requirement already satisfied: idna<3,>=2.5 in /opt/conda/lib/python3.7/site-packages (from requests<3.0.0,>=2.0.1->requests-toolbelt>=0.8.0->kfp) (2.10)\n",
      "Requirement already satisfied: oauthlib>=3.0.0 in /opt/conda/lib/python3.7/site-packages (from requests-oauthlib->kubernetes<12.0.0,>=8.0.0->kfp) (3.1.0)\n",
      "Requirement already satisfied: cffi>=1.0.0 in /opt/conda/lib/python3.7/site-packages (from google-crc32c<2.0dev,>=1.0; python_version >= \"3.5\"->google-resumable-media<2.0dev,>=0.6.0->google-cloud-storage>=1.13.0->kfp) (1.14.3)\n",
      "Requirement already satisfied: protobuf>=3.12.0 in /opt/conda/lib/python3.7/site-packages (from google-api-core<2.0.0dev,>=1.16.0->google-cloud-core<2.0dev,>=1.2.0->google-cloud-storage>=1.13.0->kfp) (3.13.0)\n",
      "Requirement already satisfied: googleapis-common-protos<2.0dev,>=1.6.0 in /opt/conda/lib/python3.7/site-packages (from google-api-core<2.0.0dev,>=1.16.0->google-cloud-core<2.0dev,>=1.2.0->google-cloud-storage>=1.13.0->kfp) (1.52.0)\n",
      "Requirement already satisfied: pytz in /opt/conda/lib/python3.7/site-packages (from google-api-core<2.0.0dev,>=1.16.0->google-cloud-core<2.0dev,>=1.2.0->google-cloud-storage>=1.13.0->kfp) (2020.1)\n",
      "Requirement already satisfied: pycparser in /opt/conda/lib/python3.7/site-packages (from cffi>=1.0.0->google-crc32c<2.0dev,>=1.0; python_version >= \"3.5\"->google-resumable-media<2.0dev,>=0.6.0->google-cloud-storage>=1.13.0->kfp) (2.20)\n"
     ]
    }
   ],
   "source": [
    "!pip3 install kfp"
   ]
  },
  {
   "cell_type": "code",
   "execution_count": 199,
   "metadata": {},
   "outputs": [],
   "source": [
    "import kfp\n",
    "from kfp import dsl\n",
    "from kfp import compiler\n",
    "import kfp.components as comp\n",
    "from kfp import gcp\n",
    "\n",
    "def preprocess_op():\n",
    "\n",
    "    return dsl.ContainerOp(\n",
    "        name='Preprocess Data',\n",
    "        image='gcr.io/kubeflow-demos/preprocess:latest',\n",
    "        arguments=[],\n",
    "        file_outputs={\n",
    "            'x_train': '/app/x_train.npy',\n",
    "            'x_test': '/app/x_test.npy',\n",
    "            'y_train': '/app/y_train.npy',\n",
    "            'y_test': '/app/y_test.npy',\n",
    "        }\n",
    "    )\n",
    "\n",
    "\n",
    "def train_op(x_train, y_train):\n",
    "\n",
    "    return dsl.ContainerOp(\n",
    "        name='Train Model',\n",
    "        image='gcr.io/kubeflow-demos/train-2:latest',\n",
    "        arguments=[\n",
    "            '--x_train', x_train,\n",
    "            '--y_train', y_train\n",
    "        ],\n",
    "        file_outputs={\n",
    "            'model': '/app/model.pkl'\n",
    "        }\n",
    "    )\n",
    "\n",
    "def upload_op(model):\n",
    "    \n",
    "    return dsl.ContainerOp(\n",
    "        name='upload to GCS',\n",
    "        image='gcr.io/kubeflow-demos/upload:latest',\n",
    "        arguments=[\n",
    "            '--model', model\n",
    "        ]\n",
    "    )\n",
    "\n",
    "def test_op(x_test, y_test, model):\n",
    "\n",
    "    return dsl.ContainerOp(\n",
    "        name='Test Model',\n",
    "        image='gcr.io/kubeflow-demos/test:latest',\n",
    "        arguments=[\n",
    "            '--x_test', x_test,\n",
    "            '--y_test', y_test,\n",
    "            '--model', model\n",
    "        ],\n",
    "        file_outputs={\n",
    "            'mean_squared_error': '/app/output.txt',\n",
    "            'mlpipeline-metrics': '/mlpipeline-metrics.json'\n",
    "        }\n",
    "    )\n",
    "\n",
    "def deploy_model_op(model):\n",
    "\n",
    "    return dsl.ContainerOp(\n",
    "        name='Deploy Model',\n",
    "        image='gcr.io/kubeflow-demos/deploy:latest',\n",
    "        arguments=[\n",
    "            '--model', model\n",
    "        ]\n",
    "    )"
   ]
  },
  {
   "cell_type": "code",
   "execution_count": 200,
   "metadata": {},
   "outputs": [],
   "source": [
    "@dsl.pipeline(\n",
    "   name='Boston Housing Pipeline',\n",
    "   description='Build Scikit model to predict house prices'\n",
    ")\n",
    "def boston_pipeline(model_version: str):\n",
    "    _preprocess_op = preprocess_op()\n",
    "    _preprocess_op.execution_options.caching_strategy.max_cache_staleness = \"P0D\"\n",
    "\n",
    "    _train_op = train_op(\n",
    "        dsl.InputArgumentPath(_preprocess_op.outputs['x_train']),\n",
    "        dsl.InputArgumentPath(_preprocess_op.outputs['y_train'])\n",
    "    ).after(_preprocess_op)\n",
    "    _train_op.execution_options.caching_strategy.max_cache_staleness = \"P0D\"\n",
    "\n",
    "    \n",
    "    _upload_op = upload_op(\n",
    "        dsl.InputArgumentPath(_train_op.outputs['model'])\n",
    "    ).after(_train_op)\n",
    "    _upload_op.execution_options.caching_strategy.max_cache_staleness = \"P0D\"\n",
    "\n",
    "    _test_op = test_op(\n",
    "        dsl.InputArgumentPath(_preprocess_op.outputs['x_test']),\n",
    "        dsl.InputArgumentPath(_preprocess_op.outputs['y_test']),\n",
    "        dsl.InputArgumentPath(_train_op.outputs['model'])\n",
    "    ).after(_train_op)\n",
    "    _test_op.execution_options.caching_strategy.max_cache_staleness = \"P0D\"\n",
    "\n",
    "    deploy_op =deploy_model_op(\n",
    "        dsl.InputArgumentPath(_train_op.outputs['model'])\n",
    "    ).after(_test_op)\n",
    "    deploy_op.execution_options.caching_strategy.max_cache_staleness = \"P0D\""
   ]
  },
  {
   "cell_type": "code",
   "execution_count": 204,
   "metadata": {},
   "outputs": [
    {
     "data": {
      "text/html": [
       "Experiment link <a href=\"http://c4e37c713669144-dot-us-central2.pipelines.googleusercontent.com/#/experiments/details/729915ae-5c88-4c6b-b3e4-44d8077b0211\" target=\"_blank\" >here</a>"
      ],
      "text/plain": [
       "<IPython.core.display.HTML object>"
      ]
     },
     "metadata": {},
     "output_type": "display_data"
    },
    {
     "data": {
      "text/html": [
       "Run link <a href=\"http://c4e37c713669144-dot-us-central2.pipelines.googleusercontent.com/#/runs/details/c191cc67-e682-48f1-9b83-d3dd08ec3b47\" target=\"_blank\" >here</a>"
      ],
      "text/plain": [
       "<IPython.core.display.HTML object>"
      ]
     },
     "metadata": {},
     "output_type": "display_data"
    },
    {
     "data": {
      "text/plain": [
       "RunPipelineResult(run_id=c191cc67-e682-48f1-9b83-d3dd08ec3b47)"
      ]
     },
     "execution_count": 204,
     "metadata": {},
     "output_type": "execute_result"
    }
   ],
   "source": [
    "args = {\n",
    "    \"model_version\": \"11\"\n",
    "}\n",
    "\n",
    "client = kfp.Client(host='c4e37c713669144-dot-us-central2.pipelines.googleusercontent.com')\n",
    "client.create_run_from_pipeline_func(boston_pipeline, experiment_name='user-group-demo-experiment', arguments=args)"
   ]
  },
  {
   "cell_type": "code",
   "execution_count": null,
   "metadata": {},
   "outputs": [],
   "source": []
  }
 ],
 "metadata": {
  "environment": {
   "name": "tf2-gpu.2-1.m56",
   "type": "gcloud",
   "uri": "gcr.io/deeplearning-platform-release/tf2-gpu.2-1:m56"
  },
  "kernelspec": {
   "display_name": "Python 3",
   "language": "python",
   "name": "python3"
  },
  "language_info": {
   "codemirror_mode": {
    "name": "ipython",
    "version": 3
   },
   "file_extension": ".py",
   "mimetype": "text/x-python",
   "name": "python",
   "nbconvert_exporter": "python",
   "pygments_lexer": "ipython3",
   "version": "3.7.8"
  }
 },
 "nbformat": 4,
 "nbformat_minor": 4
}
