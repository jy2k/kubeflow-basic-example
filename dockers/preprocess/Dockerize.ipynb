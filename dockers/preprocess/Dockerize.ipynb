{
 "cells": [
  {
   "cell_type": "code",
   "execution_count": 3,
   "metadata": {},
   "outputs": [
    {
     "name": "stdout",
     "output_type": "stream",
     "text": [
      "Sending build context to Docker daemon  11.26kB\n",
      "Step 1/5 : FROM python:3.7-slim\n",
      " ---> 4d4a9832278b\n",
      "Step 2/5 : WORKDIR /app\n",
      " ---> Using cache\n",
      " ---> a44a317c92dc\n",
      "Step 3/5 : RUN pip install -U scikit-learn numpy\n",
      " ---> Using cache\n",
      " ---> b22be2675084\n",
      "Step 4/5 : COPY preprocess.py ./preprocess.py\n",
      " ---> 5ec6d26e78d9\n",
      "Step 5/5 : ENTRYPOINT [ \"python\", \"preprocess.py\" ]\n",
      " ---> Running in ff34aea2d190\n",
      "Removing intermediate container ff34aea2d190\n",
      " ---> 81f21a7a18de\n",
      "Successfully built 81f21a7a18de\n",
      "Successfully tagged preprocess:latest\n",
      "The push refers to repository [gcr.io/kubeflow-demos/preprocess]\n",
      "\n",
      "\u001b[1Beae4292e: Preparing \n",
      "\u001b[1B18d350e5: Preparing \n",
      "\u001b[1Bab7313b3: Preparing \n",
      "\u001b[1Be5632dc8: Preparing \n",
      "\u001b[1B857805ec: Preparing \n",
      "\u001b[1B87503449: Preparing \n",
      "\u001b[1B6688d36c: Preparing \n",
      "\u001b[8Beae4292e: Pushed lready exists \u001b[8A\u001b[2K\u001b[5A\u001b[2K\u001b[2A\u001b[2K\u001b[8A\u001b[2Klatest: digest: sha256:8fca06e45f829003198a359a38b7f8719eb380ebf44608ccd091852a9d936735 size: 1996\n"
     ]
    }
   ],
   "source": [
    "!docker build -t preprocess .\n",
    "!docker tag preprocess gcr.io/kubeflow-demos/preprocess:latest\n",
    "!docker push gcr.io/kubeflow-demos/preprocess:latest"
   ]
  },
  {
   "cell_type": "code",
   "execution_count": null,
   "metadata": {},
   "outputs": [],
   "source": []
  }
 ],
 "metadata": {
  "environment": {
   "name": "tf2-gpu.2-1.m56",
   "type": "gcloud",
   "uri": "gcr.io/deeplearning-platform-release/tf2-gpu.2-1:m56"
  },
  "kernelspec": {
   "display_name": "Python 3",
   "language": "python",
   "name": "python3"
  },
  "language_info": {
   "codemirror_mode": {
    "name": "ipython",
    "version": 3
   },
   "file_extension": ".py",
   "mimetype": "text/x-python",
   "name": "python",
   "nbconvert_exporter": "python",
   "pygments_lexer": "ipython3",
   "version": "3.7.8"
  }
 },
 "nbformat": 4,
 "nbformat_minor": 4
}
