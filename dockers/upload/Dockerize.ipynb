{
 "cells": [
  {
   "cell_type": "code",
   "execution_count": 8,
   "metadata": {},
   "outputs": [
    {
     "name": "stdout",
     "output_type": "stream",
     "text": [
      "Sending build context to Docker daemon   12.8kB\n",
      "Step 1/5 : FROM python:3.7-slim\n",
      " ---> 4d4a9832278b\n",
      "Step 2/5 : WORKDIR /app\n",
      " ---> Using cache\n",
      " ---> a44a317c92dc\n",
      "Step 3/5 : RUN pip install -U google-cloud-storage\n",
      " ---> Using cache\n",
      " ---> 7b5cca3e54b1\n",
      "Step 4/5 : COPY upload.py ./upload.py\n",
      " ---> a2d31ba24a6e\n",
      "Step 5/5 : ENTRYPOINT [ \"python\", \"upload.py\" ]\n",
      " ---> Running in 281f9f50e979\n",
      "Removing intermediate container 281f9f50e979\n",
      " ---> 7fee823038e0\n",
      "Successfully built 7fee823038e0\n",
      "Successfully tagged upload:latest\n",
      "The push refers to repository [gcr.io/kubeflow-demos/upload]\n",
      "\n",
      "\u001b[1Bf76e7bd6: Preparing \n",
      "\u001b[1Bf6c678bb: Preparing \n",
      "\u001b[1Bab7313b3: Preparing \n",
      "\u001b[1Be5632dc8: Preparing \n",
      "\u001b[1B857805ec: Preparing \n",
      "\u001b[1B87503449: Preparing \n",
      "\u001b[1B6688d36c: Preparing \n",
      "\u001b[8Bf76e7bd6: Pushed lready exists \u001b[7A\u001b[2K\u001b[3A\u001b[2K\u001b[8A\u001b[2Klatest: digest: sha256:387b3eee8e080cb29427890da196944345f55e4aaf89cc66dfd8d9654ad0e87e size: 1995\n"
     ]
    }
   ],
   "source": [
    "!docker build -t upload .\n",
    "!docker tag upload gcr.io/kubeflow-demos/upload:latest\n",
    "!docker push gcr.io/kubeflow-demos/upload:latest"
   ]
  },
  {
   "cell_type": "code",
   "execution_count": null,
   "metadata": {},
   "outputs": [],
   "source": []
  }
 ],
 "metadata": {
  "environment": {
   "name": "tf2-gpu.2-1.m56",
   "type": "gcloud",
   "uri": "gcr.io/deeplearning-platform-release/tf2-gpu.2-1:m56"
  },
  "kernelspec": {
   "display_name": "Python 3",
   "language": "python",
   "name": "python3"
  },
  "language_info": {
   "codemirror_mode": {
    "name": "ipython",
    "version": 3
   },
   "file_extension": ".py",
   "mimetype": "text/x-python",
   "name": "python",
   "nbconvert_exporter": "python",
   "pygments_lexer": "ipython3",
   "version": "3.7.8"
  }
 },
 "nbformat": 4,
 "nbformat_minor": 4
}
