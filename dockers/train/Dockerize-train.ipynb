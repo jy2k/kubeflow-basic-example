{
 "cells": [
  {
   "cell_type": "code",
   "execution_count": 8,
   "metadata": {},
   "outputs": [
    {
     "name": "stdout",
     "output_type": "stream",
     "text": [
      "Sending build context to Docker daemon   12.8kB\n",
      "Step 1/5 : FROM python:3.7-slim\n",
      " ---> 4d4a9832278b\n",
      "Step 2/5 : WORKDIR /app\n",
      " ---> Using cache\n",
      " ---> a44a317c92dc\n",
      "Step 3/5 : RUN pip install -U scikit-learn numpy\n",
      " ---> Using cache\n",
      " ---> b22be2675084\n",
      "Step 4/5 : COPY train.py ./train.py\n",
      " ---> Using cache\n",
      " ---> a9d7367d87a2\n",
      "Step 5/5 : ENTRYPOINT [ \"python\", \"train.py\" ]\n",
      " ---> Using cache\n",
      " ---> 3cd22eec8b01\n",
      "Successfully built 3cd22eec8b01\n",
      "Successfully tagged train-2:latest\n",
      "The push refers to repository [gcr.io/kubeflow-demos/train-2]\n",
      "\n",
      "\u001b[1Bb1f1085b: Preparing \n",
      "\u001b[1B18d350e5: Preparing \n",
      "\u001b[1Bab7313b3: Preparing \n",
      "\u001b[1Be5632dc8: Preparing \n",
      "\u001b[1B857805ec: Preparing \n",
      "\u001b[1B87503449: Preparing \n",
      "\u001b[1B6688d36c: Preparing \n",
      "\u001b[1Bb4339852: Layer already exists \u001b[5A\u001b[2K\u001b[3A\u001b[2Klatest: digest: sha256:bb1af61358564ff2a8d668c6b9da1fb3129d24e877b0ddf6fbfea6cf809bb835 size: 1996\n"
     ]
    }
   ],
   "source": [
    "!docker build -t train-2 .\n",
    "!docker tag train-2 gcr.io/kubeflow-demos/train-2:latest\n",
    "!docker push gcr.io/kubeflow-demos/train-2:latest"
   ]
  },
  {
   "cell_type": "code",
   "execution_count": null,
   "metadata": {},
   "outputs": [],
   "source": []
  }
 ],
 "metadata": {
  "environment": {
   "name": "tf2-gpu.2-1.m56",
   "type": "gcloud",
   "uri": "gcr.io/deeplearning-platform-release/tf2-gpu.2-1:m56"
  },
  "kernelspec": {
   "display_name": "Python 3",
   "language": "python",
   "name": "python3"
  },
  "language_info": {
   "codemirror_mode": {
    "name": "ipython",
    "version": 3
   },
   "file_extension": ".py",
   "mimetype": "text/x-python",
   "name": "python",
   "nbconvert_exporter": "python",
   "pygments_lexer": "ipython3",
   "version": "3.7.8"
  }
 },
 "nbformat": 4,
 "nbformat_minor": 4
}
