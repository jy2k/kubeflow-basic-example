{
 "cells": [
  {
   "cell_type": "code",
   "execution_count": 21,
   "metadata": {},
   "outputs": [
    {
     "name": "stdout",
     "output_type": "stream",
     "text": [
      "Sending build context to Docker daemon  13.82kB\n",
      "Step 1/4 : FROM google/cloud-sdk:latest\n",
      " ---> 7d28e60605c4\n",
      "Step 2/4 : ADD deploy.sh .\n",
      " ---> 451fa645edf8\n",
      "Step 3/4 : RUN chmod 755 /deploy.sh\n",
      " ---> Running in 61d319400d83\n",
      "Removing intermediate container 61d319400d83\n",
      " ---> c683ee3089f6\n",
      "Step 4/4 : ENTRYPOINT [\"bash\",\"deploy.sh\"]\n",
      " ---> Running in 068afbeffaaa\n",
      "Removing intermediate container 068afbeffaaa\n",
      " ---> a4ea575c4787\n",
      "Successfully built a4ea575c4787\n",
      "Successfully tagged deploy:latest\n",
      "The push refers to repository [gcr.io/kubeflow-demos/deploy]\n",
      "\n",
      "\u001b[1Bb5154d3a: Preparing \n",
      "\u001b[1B06e1d025: Preparing \n",
      "\u001b[1Bae3a0192: Preparing \n",
      "\u001b[1B0d22e711: Preparing \n",
      "\u001b[1B1dbdbff9: Preparing \n",
      "\u001b[1B53f4885c: Preparing \n",
      "\u001b[6B06e1d025: Pushed lready exists A\u001b[2K\u001b[2A\u001b[2K\u001b[1A\u001b[2K\u001b[7A\u001b[2K\u001b[6A\u001b[2Klatest: digest: sha256:ac6579d1f501cc93984edbd8437774061bff0ab36dd757f481e7b37ccfc2cfb0 size: 1787\n"
     ]
    }
   ],
   "source": [
    "!docker build -t deploy .\n",
    "!docker tag deploy gcr.io/kubeflow-demos/deploy:latest\n",
    "!docker push gcr.io/kubeflow-demos/deploy:latest"
   ]
  },
  {
   "cell_type": "code",
   "execution_count": null,
   "metadata": {},
   "outputs": [],
   "source": []
  }
 ],
 "metadata": {
  "environment": {
   "name": "tf2-gpu.2-1.m56",
   "type": "gcloud",
   "uri": "gcr.io/deeplearning-platform-release/tf2-gpu.2-1:m56"
  },
  "kernelspec": {
   "display_name": "Python 3",
   "language": "python",
   "name": "python3"
  },
  "language_info": {
   "codemirror_mode": {
    "name": "ipython",
    "version": 3
   },
   "file_extension": ".py",
   "mimetype": "text/x-python",
   "name": "python",
   "nbconvert_exporter": "python",
   "pygments_lexer": "ipython3",
   "version": "3.7.8"
  }
 },
 "nbformat": 4,
 "nbformat_minor": 4
}
